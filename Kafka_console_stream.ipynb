{
 "cells": [
  {
   "cell_type": "code",
   "execution_count": null,
   "id": "22212a14-196e-448e-a354-567fd46829b6",
   "metadata": {},
   "outputs": [],
   "source": [
    "from pyspark.sql import SparkSession\n",
    "\n",
    "spark = (\n",
    "    SparkSession \n",
    "    .builder \n",
    "    .appName(\"Kafka_stream\") \n",
    "    .config(\"spark.streaming.stopGracefullyOnShutdown\", True) \n",
    "    .config('spark.jars.packages', 'org.apache.spark:spark-sql-kafka-0-10_2.12:3.3.0')\n",
    "    .config(\"spark.sql.shuffle.partitions\", 4)\n",
    "    .master(\"local[*]\") \n",
    "    .getOrCreate()\n",
    ")"
   ]
  },
  {
   "cell_type": "code",
   "execution_count": null,
   "id": "52d6143c-b099-4fda-9f77-33fb33b276bd",
   "metadata": {},
   "outputs": [],
   "source": [
    "kafka_logs_df = (\n",
    "    spark\n",
    "    .readStream\n",
    "    .format(\"kafka\")\n",
    "    .option(\"kafka.bootstrap.servers\", \"ed-kafka:29092\")\n",
    "    .option(\"subscribe\", \"test-topic\")\n",
    "    .option(\"startingOffsets\", \"earliest\")\n",
    "    .option(\"failOnDataLoss\", \"false\") # <--- continue despite of data loss\n",
    "    .load()\n",
    ")"
   ]
  },
  {
   "cell_type": "code",
   "execution_count": null,
   "id": "24041e06-a38e-476a-abe2-77347b3a2598",
   "metadata": {},
   "outputs": [],
   "source": [
    "kafka_logs_df.show()"
   ]
  },
  {
   "cell_type": "code",
   "execution_count": null,
   "id": "a29dbc12-ec00-4b9c-8366-9c33d44d9910",
   "metadata": {},
   "outputs": [],
   "source": [
    "kafka_logs_df.printSchema()"
   ]
  },
  {
   "cell_type": "code",
   "execution_count": null,
   "id": "e6fef4d9-b1c0-454e-99ea-809f81cf02ee",
   "metadata": {},
   "outputs": [],
   "source": [
    "from pyspark.sql.functions import expr\n",
    "\n",
    "kafka_json_df = kafka_logs_df.withColumn(\"value\", expr(\"cast(value as string)\"))"
   ]
  },
  {
   "cell_type": "code",
   "execution_count": null,
   "id": "23c021a7-745d-4c94-a619-b095ebfb2856",
   "metadata": {},
   "outputs": [],
   "source": [
    "kafka_logs_df.printSchema()"
   ]
  },
  {
   "cell_type": "code",
   "execution_count": null,
   "id": "af97039f-0c9c-457f-a99e-c58c8f9682a8",
   "metadata": {},
   "outputs": [],
   "source": [
    "kafka_logs_df.show()"
   ]
  },
  {
   "cell_type": "code",
   "execution_count": null,
   "id": "41a711e3-b5d6-45ef-acdc-cd8d0805376c",
   "metadata": {},
   "outputs": [],
   "source": [
    "from pyspark.sql.types import StringType, StructField, StructType, LongType\n",
    "\n",
    "log_schema = StructType([\n",
    "    StructField('timestamp', StringType(), True),\n",
    "    StructField('level', StringType(), True),\n",
    "    StructField('message', StringType(), True),\n",
    "    StructField('source', StringType(), True),\n",
    "    StructField('request_id', LongType(), True),\n",
    "    StructField('user_id', LongType(), True),\n",
    "    StructField('id', StringType(), True)\n",
    "])\n"
   ]
  },
  {
   "cell_type": "code",
   "execution_count": null,
   "id": "e02e10b9-c562-4e20-b396-327159785e04",
   "metadata": {},
   "outputs": [],
   "source": [
    "from pyspark.sql.functions import from_json,col\n",
    "streaming_df = kafka_json_df.withColumn(\"values_json\", from_json(col(\"value\"), log_schema)).selectExpr(\"values_json.*\")\n"
   ]
  },
  {
   "cell_type": "code",
   "execution_count": null,
   "id": "efb6e770-7d4d-4483-8b96-c8ed48ee0664",
   "metadata": {},
   "outputs": [],
   "source": [
    "streaming_df.printSchema()"
   ]
  },
  {
   "cell_type": "code",
   "execution_count": null,
   "id": "c7cf4e25-75cc-4ac1-adfb-67add400ad07",
   "metadata": {},
   "outputs": [],
   "source": [
    "(streaming_df\n",
    " .writeStream\n",
    " .format(\"console\")\n",
    " .outputMode(\"append\")\n",
    " .option(\"checkpointLocation\", \"brand_new\")\n",
    " .start()\n",
    " .awaitTermination())"
   ]
  }
 ],
 "metadata": {
  "kernelspec": {
   "display_name": "Python 3 (ipykernel)",
   "language": "python",
   "name": "python3"
  },
  "language_info": {
   "codemirror_mode": {
    "name": "ipython",
    "version": 3
   },
   "file_extension": ".py",
   "mimetype": "text/x-python",
   "name": "python",
   "nbconvert_exporter": "python",
   "pygments_lexer": "ipython3",
   "version": "3.10.16"
  }
 },
 "nbformat": 4,
 "nbformat_minor": 5
}
